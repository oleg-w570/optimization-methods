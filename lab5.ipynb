{
 "cells": [
  {
   "cell_type": "code",
   "execution_count": null,
   "id": "e2a2cdc9-6d07-423c-9a86-3c22ebfad5d1",
   "metadata": {
    "is_executing": true
   },
   "outputs": [],
   "source": [
    "import matplotlib.pyplot as plt\n",
    "import numpy as np\n",
    "import seaborn as sns\n",
    "sns.set_theme()"
   ]
  },
  {
   "cell_type": "markdown",
   "id": "51ffdd48-4834-443e-9c1d-8dbfd1ef885c",
   "metadata": {},
   "source": [
    "# Лабораторная работа №5"
   ]
  },
  {
   "cell_type": "markdown",
   "id": "a31e060e-792e-46be-9bfb-63565bd0063a",
   "metadata": {},
   "source": [
    "Введём унимодальную функцию $Q(x) = |x - 1|$ с минимумом в точке $x^* = 1$, рассматривать будем на отрезке $[a, \\; b] = [-5, \\; 5]$"
   ]
  },
  {
   "cell_type": "code",
   "execution_count": null,
   "id": "3207ba0f",
   "metadata": {
    "is_executing": true
   },
   "outputs": [],
   "source": [
    "def Q(x: float) -> float:\n",
    "    return abs(x - 1)    "
   ]
  },
  {
   "cell_type": "markdown",
   "id": "f4adc09c",
   "metadata": {},
   "source": [
    "Отобразим её на графике"
   ]
  },
  {
   "cell_type": "code",
   "execution_count": null,
   "id": "444e80f8",
   "metadata": {
    "is_executing": true
   },
   "outputs": [],
   "source": [
    "x = np.linspace(-5, 5, 1000)\n",
    "y = Q(x)\n",
    "plt.plot(x, y)\n",
    "pass"
   ]
  },
  {
   "cell_type": "markdown",
   "id": "80b1917f",
   "metadata": {},
   "source": [
    "## Метод дихотомии"
   ]
  },
  {
   "cell_type": "markdown",
   "id": "079e4e85",
   "metadata": {},
   "source": [
    "Реализуем метод дихотомии. На вход будут приниматься функция $f$, границы отрезка $a$ и $b$, точность решения $\\delta$. На выходе будет интервальная оценка решения $x^* \\in [a^*, \\; b^*]$, где $b^* - a^* \\le \\delta$. "
   ]
  },
  {
   "cell_type": "code",
   "execution_count": null,
   "id": "fef0a6db",
   "metadata": {
    "is_executing": true
   },
   "outputs": [],
   "source": [
    "def dichotomi(f, a: float, b: float, delta: float) -> tuple[float]:\n",
    "    c = 0.5 * (a + b)\n",
    "    f_c = f(c)\n",
    "    while b - a > delta:\n",
    "        x = 0.5 * (a + c)\n",
    "        f_x = f(x)\n",
    "        y = 0.5 * (c + b)\n",
    "        f_y = f(y)\n",
    "        if f_x <= f_c < f_y:\n",
    "            b = c\n",
    "            c = x\n",
    "            f_c = f_x\n",
    "        elif f_x > f_c <= f_y:\n",
    "            a = x\n",
    "            b = y\n",
    "        else:\n",
    "            a = c\n",
    "            c = y\n",
    "            f_c = f_y\n",
    "    return a, b"
   ]
  },
  {
   "cell_type": "markdown",
   "id": "687cc8f5",
   "metadata": {},
   "source": [
    "Запустим метод на нашей задаче с погрешностью $\\delta=0.5$"
   ]
  },
  {
   "cell_type": "code",
   "execution_count": null,
   "id": "b79e8d5f",
   "metadata": {
    "is_executing": true
   },
   "outputs": [],
   "source": [
    "a_star, b_star = dichotomi(Q, -5, 5, 0.5)\n",
    "a_star, b_star"
   ]
  },
  {
   "cell_type": "markdown",
   "id": "a15cf3a3",
   "metadata": {},
   "source": [
    "Получили ответ $[a^*, \\; b^*] = [0.78, \\; 1.09]$, отобразим эти точки на графике"
   ]
  },
  {
   "cell_type": "code",
   "execution_count": null,
   "id": "9c5a910a",
   "metadata": {
    "is_executing": true
   },
   "outputs": [],
   "source": [
    "plt.plot(x, y)\n",
    "plt.scatter(a_star, Q(a_star), c='g')\n",
    "plt.scatter(b_star, Q(b_star), c='g')\n",
    "plt.scatter(a_star, 0, marker='|', c='g')\n",
    "plt.scatter(b_star, 0, marker='|', c='g')\n",
    "pass"
   ]
  },
  {
   "cell_type": "code",
   "execution_count": null,
   "id": "0dad9ec3",
   "metadata": {
    "is_executing": true
   },
   "outputs": [],
   "source": []
  }
 ],
 "metadata": {
  "kernelspec": {
   "display_name": "Python 3 (ipykernel)",
   "language": "python",
   "name": "python3"
  },
  "language_info": {
   "codemirror_mode": {
    "name": "ipython",
    "version": 3
   },
   "file_extension": ".py",
   "mimetype": "text/x-python",
   "name": "python",
   "nbconvert_exporter": "python",
   "pygments_lexer": "ipython3",
   "version": "3.12.0"
  }
 },
 "nbformat": 4,
 "nbformat_minor": 5
}
